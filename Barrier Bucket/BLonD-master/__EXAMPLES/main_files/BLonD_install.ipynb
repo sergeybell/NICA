{
 "cells": [
  {
   "cell_type": "code",
   "execution_count": 9,
   "id": "ad206d5d-7c8e-4a1c-b115-a3153ea9a837",
   "metadata": {},
   "outputs": [
    {
     "ename": "ImportError",
     "evalue": "cannot import name 'cumtrapz' from 'scipy.integrate' (/usr/local/Cellar/jupyterlab/3.4.7/libexec/lib/python3.10/site-packages/scipy/integrate/__init__.py)",
     "output_type": "error",
     "traceback": [
      "\u001b[0;31m---------------------------------------------------------------------------\u001b[0m",
      "\u001b[0;31mImportError\u001b[0m                               Traceback (most recent call last)",
      "Cell \u001b[0;32mIn [9], line 12\u001b[0m\n\u001b[1;32m      9\u001b[0m \u001b[38;5;28;01mimport\u001b[39;00m \u001b[38;5;21;01mscipy\u001b[39;00m\u001b[38;5;21;01m.\u001b[39;00m\u001b[38;5;21;01mconstants\u001b[39;00m \u001b[38;5;28;01mas\u001b[39;00m \u001b[38;5;21;01mconst\u001b[39;00m\n\u001b[1;32m     10\u001b[0m \u001b[38;5;28;01mimport\u001b[39;00m \u001b[38;5;21;01mpylab\u001b[39;00m \u001b[38;5;28;01mas\u001b[39;00m \u001b[38;5;21;01mplt\u001b[39;00m\n\u001b[0;32m---> 12\u001b[0m \u001b[38;5;28;01mfrom\u001b[39;00m \u001b[38;5;21;01mblond\u001b[39;00m\u001b[38;5;21;01m.\u001b[39;00m\u001b[38;5;21;01mbeam\u001b[39;00m\u001b[38;5;21;01m.\u001b[39;00m\u001b[38;5;21;01mbeam\u001b[39;00m \u001b[38;5;28;01mimport\u001b[39;00m Beam, Proton\n\u001b[1;32m     13\u001b[0m \u001b[38;5;28;01mfrom\u001b[39;00m \u001b[38;5;21;01mblond\u001b[39;00m\u001b[38;5;21;01m.\u001b[39;00m\u001b[38;5;21;01mbeam\u001b[39;00m\u001b[38;5;21;01m.\u001b[39;00m\u001b[38;5;21;01mdistributions\u001b[39;00m \u001b[38;5;28;01mimport\u001b[39;00m bigaussian, parabolic\n\u001b[1;32m     14\u001b[0m \u001b[38;5;28;01mfrom\u001b[39;00m \u001b[38;5;21;01mblond\u001b[39;00m\u001b[38;5;21;01m.\u001b[39;00m\u001b[38;5;21;01mbeam\u001b[39;00m\u001b[38;5;21;01m.\u001b[39;00m\u001b[38;5;21;01mprofile\u001b[39;00m \u001b[38;5;28;01mimport\u001b[39;00m CutOptions, FitOptions, Profile\n",
      "File \u001b[0;32m/usr/local/Cellar/jupyterlab/3.4.7/libexec/lib/python3.10/site-packages/blond/beam/beam.py:24\u001b[0m\n\u001b[1;32m     21\u001b[0m \u001b[38;5;28;01mimport\u001b[39;00m \u001b[38;5;21;01mnumpy\u001b[39;00m \u001b[38;5;28;01mas\u001b[39;00m \u001b[38;5;21;01mnp\u001b[39;00m\n\u001b[1;32m     22\u001b[0m \u001b[38;5;28;01mfrom\u001b[39;00m \u001b[38;5;21;01mscipy\u001b[39;00m\u001b[38;5;21;01m.\u001b[39;00m\u001b[38;5;21;01mconstants\u001b[39;00m \u001b[38;5;28;01mimport\u001b[39;00m c, e, epsilon_0, hbar, m_e, m_p\n\u001b[0;32m---> 24\u001b[0m \u001b[38;5;28;01mfrom\u001b[39;00m \u001b[38;5;21;01m.\u001b[39;00m\u001b[38;5;21;01m.\u001b[39;00m\u001b[38;5;21;01mtrackers\u001b[39;00m\u001b[38;5;21;01m.\u001b[39;00m\u001b[38;5;21;01mutilities\u001b[39;00m \u001b[38;5;28;01mimport\u001b[39;00m is_in_separatrix\n\u001b[1;32m     25\u001b[0m \u001b[38;5;28;01mfrom\u001b[39;00m \u001b[38;5;21;01m.\u001b[39;00m\u001b[38;5;21;01m.\u001b[39;00m\u001b[38;5;21;01mutils\u001b[39;00m \u001b[38;5;28;01mimport\u001b[39;00m bmath \u001b[38;5;28;01mas\u001b[39;00m bm\n\u001b[1;32m     26\u001b[0m \u001b[38;5;28;01mfrom\u001b[39;00m \u001b[38;5;21;01m.\u001b[39;00m\u001b[38;5;21;01m.\u001b[39;00m\u001b[38;5;21;01mutils\u001b[39;00m \u001b[38;5;28;01mimport\u001b[39;00m exceptions \u001b[38;5;28;01mas\u001b[39;00m blExcept\n",
      "File \u001b[0;32m/usr/local/Cellar/jupyterlab/3.4.7/libexec/lib/python3.10/site-packages/blond/trackers/utilities.py:26\u001b[0m\n\u001b[1;32m     24\u001b[0m \u001b[38;5;28;01mimport\u001b[39;00m \u001b[38;5;21;01mnumpy\u001b[39;00m \u001b[38;5;28;01mas\u001b[39;00m \u001b[38;5;21;01mnp\u001b[39;00m\n\u001b[1;32m     25\u001b[0m \u001b[38;5;28;01mfrom\u001b[39;00m \u001b[38;5;21;01mscipy\u001b[39;00m\u001b[38;5;21;01m.\u001b[39;00m\u001b[38;5;21;01mconstants\u001b[39;00m \u001b[38;5;28;01mimport\u001b[39;00m c\n\u001b[0;32m---> 26\u001b[0m \u001b[38;5;28;01mfrom\u001b[39;00m \u001b[38;5;21;01mscipy\u001b[39;00m\u001b[38;5;21;01m.\u001b[39;00m\u001b[38;5;21;01mintegrate\u001b[39;00m \u001b[38;5;28;01mimport\u001b[39;00m cumtrapz\n\u001b[1;32m     28\u001b[0m \u001b[38;5;28;01mfrom\u001b[39;00m \u001b[38;5;21;01m.\u001b[39;00m\u001b[38;5;21;01m.\u001b[39;00m\u001b[38;5;21;01mutils\u001b[39;00m \u001b[38;5;28;01mimport\u001b[39;00m bmath \u001b[38;5;28;01mas\u001b[39;00m bm\n\u001b[1;32m     31\u001b[0m \u001b[38;5;28;01mdef\u001b[39;00m \u001b[38;5;21msynchrotron_frequency_distribution\u001b[39m(Beam, FullRingAndRF, main_harmonic_option\u001b[38;5;241m=\u001b[39m\u001b[38;5;124m'\u001b[39m\u001b[38;5;124mlowest_freq\u001b[39m\u001b[38;5;124m'\u001b[39m,\n\u001b[1;32m     32\u001b[0m                                        turn\u001b[38;5;241m=\u001b[39m\u001b[38;5;241m0\u001b[39m, TotalInducedVoltage\u001b[38;5;241m=\u001b[39m\u001b[38;5;28;01mNone\u001b[39;00m, smoothOption\u001b[38;5;241m=\u001b[39m\u001b[38;5;28;01mNone\u001b[39;00m):\n",
      "\u001b[0;31mImportError\u001b[0m: cannot import name 'cumtrapz' from 'scipy.integrate' (/usr/local/Cellar/jupyterlab/3.4.7/libexec/lib/python3.10/site-packages/scipy/integrate/__init__.py)"
     ]
    }
   ],
   "source": [
    "#  General Imports\n",
    "from __future__ import division, print_function\n",
    "\n",
    "import os\n",
    "from builtins import range\n",
    "\n",
    "import matplotlib as mpl\n",
    "import numpy as np\n",
    "import scipy.constants as const\n",
    "import pylab as plt\n",
    "\n",
    "from blond.beam.beam import Beam, Proton\n",
    "from blond.beam.distributions import bigaussian, parabolic\n",
    "from blond.beam.profile import CutOptions, FitOptions, Profile\n",
    "from blond.input_parameters.rf_parameters import RFStation\n",
    "#  BLonD Imports\n",
    "from blond.input_parameters.ring import Ring\n",
    "from blond.monitors.monitors import BunchMonitor\n",
    "from blond.plots.plot import Plot\n",
    "from blond.trackers.tracker import RingAndRFTracker\n",
    "\n",
    "# My IMPORT\n",
    "from blond.plots.plot_parameters import plot_voltage_programme\n",
    "from Functions_01 import fourier_coefficient, sigma_modulation, Voltage_amplitude, Barrier_Bucket\n",
    "from blond.beam.coasting_beam import generate_coasting_beam"
   ]
  },
  {
   "cell_type": "code",
   "execution_count": null,
   "id": "cf950885-8f36-4c99-948b-b0ce33fa7fa3",
   "metadata": {},
   "outputs": [],
   "source": [
    "pip install matplotlib"
   ]
  },
  {
   "cell_type": "code",
   "execution_count": null,
   "id": "0ad03f9c-d8b8-43b6-9e02-d47ee856cedc",
   "metadata": {},
   "outputs": [],
   "source": [
    "pip install --upgrade pip"
   ]
  },
  {
   "cell_type": "code",
   "execution_count": 5,
   "id": "8792286a-a464-4544-aebb-e49bdb0e90a6",
   "metadata": {},
   "outputs": [
    {
     "name": "stdout",
     "output_type": "stream",
     "text": [
      "Requirement already satisfied: scipy in /usr/local/Cellar/jupyterlab/3.4.7/libexec/lib/python3.10/site-packages (1.14.0)\n",
      "Requirement already satisfied: numpy<2.3,>=1.23.5 in /usr/local/Cellar/jupyterlab/3.4.7/libexec/lib/python3.10/site-packages (from scipy) (2.0.1)\n",
      "Note: you may need to restart the kernel to use updated packages.\n"
     ]
    }
   ],
   "source": [
    "pip install scipy"
   ]
  },
  {
   "cell_type": "code",
   "execution_count": null,
   "id": "3f16f432-6325-4bb6-88e5-25a8dafad094",
   "metadata": {},
   "outputs": [],
   "source": [
    "pip install blond"
   ]
  },
  {
   "cell_type": "code",
   "execution_count": 6,
   "id": "4bd17d5d-7d0c-4c91-a086-73102d2319c5",
   "metadata": {},
   "outputs": [
    {
     "ename": "SyntaxError",
     "evalue": "invalid syntax (901366647.py, line 1)",
     "output_type": "error",
     "traceback": [
      "\u001b[0;36m  Cell \u001b[0;32mIn [6], line 1\u001b[0;36m\u001b[0m\n\u001b[0;31m    pip3 install scipy\u001b[0m\n\u001b[0m         ^\u001b[0m\n\u001b[0;31mSyntaxError\u001b[0m\u001b[0;31m:\u001b[0m invalid syntax\n"
     ]
    }
   ],
   "source": [
    "pip3 install scipy"
   ]
  },
  {
   "cell_type": "code",
   "execution_count": 7,
   "id": "4da5f197-16bb-4af4-85f2-ff97f79a032a",
   "metadata": {},
   "outputs": [],
   "source": [
    "from scipy.integrate import odeint, ode"
   ]
  },
  {
   "cell_type": "code",
   "execution_count": 8,
   "id": "c2cec72f-6dbc-4963-9a9e-14403b08aac1",
   "metadata": {},
   "outputs": [
    {
     "ename": "ImportError",
     "evalue": "cannot import name 'cumtrapz' from 'scipy.integrate' (/usr/local/Cellar/jupyterlab/3.4.7/libexec/lib/python3.10/site-packages/scipy/integrate/__init__.py)",
     "output_type": "error",
     "traceback": [
      "\u001b[0;31m---------------------------------------------------------------------------\u001b[0m",
      "\u001b[0;31mImportError\u001b[0m                               Traceback (most recent call last)",
      "Cell \u001b[0;32mIn [8], line 1\u001b[0m\n\u001b[0;32m----> 1\u001b[0m \u001b[38;5;28;01mfrom\u001b[39;00m \u001b[38;5;21;01mscipy\u001b[39;00m\u001b[38;5;21;01m.\u001b[39;00m\u001b[38;5;21;01mintegrate\u001b[39;00m \u001b[38;5;28;01mimport\u001b[39;00m cumtrapz\n",
      "\u001b[0;31mImportError\u001b[0m: cannot import name 'cumtrapz' from 'scipy.integrate' (/usr/local/Cellar/jupyterlab/3.4.7/libexec/lib/python3.10/site-packages/scipy/integrate/__init__.py)"
     ]
    }
   ],
   "source": [
    "from scipy.integrate import cumtrapz"
   ]
  },
  {
   "cell_type": "code",
   "execution_count": null,
   "id": "f994aa71-385a-4b89-bab1-2a83c5657a6a",
   "metadata": {},
   "outputs": [],
   "source": []
  }
 ],
 "metadata": {
  "kernelspec": {
   "display_name": "Python 3 (ipykernel)",
   "language": "python",
   "name": "python3"
  },
  "language_info": {
   "codemirror_mode": {
    "name": "ipython",
    "version": 3
   },
   "file_extension": ".py",
   "mimetype": "text/x-python",
   "name": "python",
   "nbconvert_exporter": "python",
   "pygments_lexer": "ipython3",
   "version": "3.10.6"
  }
 },
 "nbformat": 4,
 "nbformat_minor": 5
}
